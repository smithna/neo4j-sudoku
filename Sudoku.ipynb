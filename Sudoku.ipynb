{
 "cells": [
  {
   "cell_type": "code",
   "execution_count": 1,
   "metadata": {},
   "outputs": [],
   "source": [
    "from neo4j import GraphDatabase\n",
    "\n",
    "import numpy as np"
   ]
  },
  {
   "cell_type": "code",
   "execution_count": 2,
   "metadata": {
    "scrolled": true
   },
   "outputs": [],
   "source": [
    "driver = GraphDatabase.driver(\"bolt://localhost:7687\", auth=(\"neo4j\", \"Sudoku2\"))"
   ]
  },
  {
   "cell_type": "code",
   "execution_count": 3,
   "metadata": {},
   "outputs": [],
   "source": [
    "create_moves_query = \"\"\"\n",
    "//Create moves\n",
    "UNWIND RANGE(1,9) AS row\n",
    "UNWIND RANGE(1,9) AS column\n",
    "UNWIND RANGE(1,9) AS number\n",
    "CREATE (m:Move {row:row, column:column, number:number, status:\"Maybe\"})\n",
    "SET m.block = 3*((m.row-1)/3) + (m.column-1)/3 + 1\n",
    "\"\"\"\n",
    "\n",
    "row_requires_number_query = \"\"\"\n",
    "//Create row requires number constraint\n",
    "UNWIND RANGE(1,9) AS row\n",
    "UNWIND RANGE(1,9) AS num\n",
    "CREATE (c:Constraint {row:row, number:num, type:\"Row requires number.\"})\n",
    "WITH c\n",
    "MATCH (m:Move)\n",
    "WHERE m.row = c.row and m.number = c.number\n",
    "MERGE (m)-[:MATCHES]->(c)\n",
    "\"\"\"\n",
    "\n",
    "column_requires_number_query = \"\"\"\n",
    "//Create column requires number constraint\n",
    "UNWIND RANGE(1,9) AS column\n",
    "UNWIND RANGE(1,9) AS num\n",
    "CREATE (c:Constraint {column:column, number:num, type:\"Column requires number.\"})\n",
    "WITH c\n",
    "MATCH (m:Move)\n",
    "WHERE m.column = c.column and m.number = c.number\n",
    "MERGE (m)-[:MATCHES]->(c)\n",
    "\"\"\"\n",
    "\n",
    "block_requires_number_query = \"\"\"\n",
    "//Create block requires number constraint\n",
    "UNWIND RANGE(1,9) AS block\n",
    "UNWIND RANGE(1,9) AS num\n",
    "CREATE (c:Constraint {block:block, number:num, type:\"Block requires number.\"})\n",
    "WITH c\n",
    "MATCH (m:Move)\n",
    "WHERE m.block = c.block and m.number = c.number\n",
    "MERGE (m)-[:MATCHES]->(c)\n",
    "\"\"\"\n",
    "\n",
    "cell_requires_number_query = \"\"\"\n",
    "//Create cell requires number constraint\n",
    "UNWIND RANGE(1,9) AS row\n",
    "UNWIND RANGE(1,9) AS column\n",
    "CREATE (c:Constraint {row:row, column:column, type:\"Cell requires number.\"})\n",
    "WITH c\n",
    "MATCH (m:Move)\n",
    "WHERE m.row = c.row and m.column = c.column\n",
    "MERGE (m)-[:MATCHES]->(c)\n",
    "\"\"\""
   ]
  },
  {
   "cell_type": "code",
   "execution_count": 4,
   "metadata": {},
   "outputs": [],
   "source": [
    "setup_queries = [create_moves_query, \n",
    "                 row_requires_number_query,\n",
    "                 column_requires_number_query, \n",
    "                 block_requires_number_query,\n",
    "                 cell_requires_number_query]"
   ]
  },
  {
   "cell_type": "code",
   "execution_count": 5,
   "metadata": {},
   "outputs": [
    {
     "name": "stdout",
     "output_type": "stream",
     "text": [
      "{'labels_added': 729, 'nodes_created': 729, 'properties_set': 3645}\n",
      "{'labels_added': 81, 'relationships_created': 729, 'nodes_created': 81, 'properties_set': 243}\n",
      "{'labels_added': 81, 'relationships_created': 729, 'nodes_created': 81, 'properties_set': 243}\n",
      "{'labels_added': 81, 'relationships_created': 729, 'nodes_created': 81, 'properties_set': 243}\n",
      "{'labels_added': 81, 'relationships_created': 729, 'nodes_created': 81, 'properties_set': 243}\n"
     ]
    }
   ],
   "source": [
    "with driver.session() as session:\n",
    "    for query in setup_queries:\n",
    "        result = session.run(query)\n",
    "        print(result.summary().counters)\n"
   ]
  },
  {
   "cell_type": "code",
   "execution_count": 6,
   "metadata": {},
   "outputs": [],
   "source": [
    "clue_grid = np.array(\n",
    "[[0,4,0,0,0,0,0,2,0],\n",
    " [0,1,0,0,0,3,9,0,4],\n",
    " [8,0,7,0,0,0,0,0,0],\n",
    " [0,0,8,6,0,0,0,0,9],\n",
    " [0,3,0,0,0,0,0,8,0],\n",
    " [2,0,6,0,0,1,0,3,0],\n",
    " [0,0,0,0,1,0,0,0,0],\n",
    " [7,0,0,9,0,0,3,0,0],\n",
    " [0,0,4,0,0,6,0,7,2]\n",
    "]\n",
    ")"
   ]
  },
  {
   "cell_type": "code",
   "execution_count": 7,
   "metadata": {},
   "outputs": [
    {
     "name": "stdout",
     "output_type": "stream",
     "text": [
      "{'properties_set': 2}\n",
      "{'properties_set': 2}\n",
      "{'properties_set': 2}\n",
      "{'properties_set': 2}\n",
      "{'properties_set': 2}\n",
      "{'properties_set': 2}\n",
      "{'properties_set': 2}\n",
      "{'properties_set': 2}\n",
      "{'properties_set': 2}\n",
      "{'properties_set': 2}\n",
      "{'properties_set': 2}\n",
      "{'properties_set': 2}\n",
      "{'properties_set': 2}\n",
      "{'properties_set': 2}\n",
      "{'properties_set': 2}\n",
      "{'properties_set': 2}\n",
      "{'properties_set': 2}\n",
      "{'properties_set': 2}\n",
      "{'properties_set': 2}\n",
      "{'properties_set': 2}\n",
      "{'properties_set': 2}\n",
      "{'properties_set': 2}\n",
      "{'properties_set': 2}\n",
      "{'properties_set': 2}\n",
      "{'properties_set': 2}\n",
      "{'properties_set': 1600}\n"
     ]
    }
   ],
   "source": [
    "clue_query = \"MATCH (m:Move {row:$rowNum, column:$colNum, number:$val}) SET m.status = 'Yes', m.search = 0\"\n",
    "it = np.nditer(clue_grid, flags=['multi_index'])\n",
    "with driver.session() as session:\n",
    "    for clue in it:\n",
    "        if clue.item() != 0:\n",
    "            result = session.run(clue_query, val=clue.item(), rowNum=it.multi_index[0] + 1, colNum=it.multi_index[1] + 1)\n",
    "            print(result.summary().counters)\n",
    "    result = session.run(\"MATCH (m:Move {status:'Yes'})-[:MATCHES*2]-(m2:Move) SET m2.status = 'No', m2.search = m.search\")\n",
    "    print(result.summary().counters)"
   ]
  },
  {
   "cell_type": "code",
   "execution_count": 8,
   "metadata": {},
   "outputs": [],
   "source": [
    "find_next_search_query = \"\"\"\n",
    "MATCH (c:Constraint)\n",
    "WHERE NOT (c)<-[:MATCHES]-(:Move {status:\"Yes\"})\n",
    "OPTIONAL MATCH (c)<-[:MATCHES]-(m:Move {status:\"Maybe\"})\n",
    "WITH c, m\n",
    "ORDER BY id(c), id(m)\n",
    "WITH c, collect(m) AS maybes\n",
    "ORDER BY size(maybes), id(c)\n",
    "LIMIT 1\n",
    "RETURN id(maybes[0]) AS move, id(c) AS constraint\n",
    "\"\"\"\n",
    "def find_next_search(tx):\n",
    "    result = tx.run(find_next_search_query)\n",
    "    record = result.single()\n",
    "    if record == None:\n",
    "        return None, None\n",
    "    return record['move'], record['constraint']\n",
    "\n"
   ]
  },
  {
   "cell_type": "code",
   "execution_count": 9,
   "metadata": {},
   "outputs": [],
   "source": [
    "update_moves_query = \"\"\"\n",
    "MATCH (m:Move)\n",
    "WITH max(m.search) + 1 AS newSearch\n",
    "MATCH (m)-[:MATCHES]->(c:Constraint)\n",
    "WHERE id(m)=$moveId and id(c)=$constraintId\n",
    "SET m.status = \"Yes\",\n",
    "m.search = newSearch,\n",
    "c.search = newSearch,\n",
    "c.moveId = $moveId\n",
    "WITH m, newSearch\n",
    "MATCH (m)-[:MATCHES]->(:Constraint)<-[:MATCHES]-(m2:Move {status:\"Maybe\"})\n",
    "SET m2.status = \"No\",\n",
    "m2.search = newSearch\n",
    "\"\"\"\n",
    "def update_moves(tx, move_id, constraint_id):\n",
    "    result = tx.run(update_moves_query, moveId=move_id, constraintId=constraint_id)\n",
    "    return result"
   ]
  },
  {
   "cell_type": "code",
   "execution_count": 10,
   "metadata": {},
   "outputs": [],
   "source": [
    "backtrack_query = \"\"\"\n",
    "//Undo and search for alternate branch at last depth\n",
    "MATCH (m:Move)\n",
    "WHERE EXISTS(m.search)\n",
    "WITH m.search AS search, collect(m) AS moves\n",
    "ORDER BY m.search DESC\n",
    "LIMIT 1\n",
    "FOREACH(move in moves | set move.status = \"Maybe\")\n",
    "WITH search\n",
    "MATCH (c:Constraint {search:search})\n",
    "OPTIONAL MATCH (c)<-[:MATCHES]-(m2 {status:\"Maybe\"})\n",
    "WHERE (id(m2) > c.moveId OR m2 is null)\n",
    "RETURN id(c) AS constraintId, id(m2) AS moveId, search\n",
    "\"\"\"\n",
    "\n",
    "def backtrack(tx):\n",
    "    result = tx.run(backtrack_query)\n",
    "    record = result.single()\n",
    "    if record:\n",
    "        return record['constraintId'], record['moveId'], record['search']\n",
    "    else:\n",
    "        return None, None, None"
   ]
  },
  {
   "cell_type": "code",
   "execution_count": 11,
   "metadata": {},
   "outputs": [],
   "source": [
    "get_grid_query = \"\"\"\n",
    "//Get matrix\n",
    "MATCH (m:Move {status:\"Yes\"})\n",
    "WITH m\n",
    "ORDER BY m.row, m.column\n",
    "WITH m.row as rowNum, collect(m.number) as rows\n",
    "RETURN COLLECT(rows) as matrix\n",
    "\"\"\"\n",
    "def get_grid(tx):\n",
    "    result = tx.run(get_grid_query)\n",
    "    return result.single()['matrix']"
   ]
  },
  {
   "cell_type": "code",
   "execution_count": 12,
   "metadata": {},
   "outputs": [
    {
     "name": "stdout",
     "output_type": "stream",
     "text": [
      "Solved!\n",
      "[[3 4 9 1 6 5 7 2 8]\n",
      " [5 1 2 8 7 3 9 6 4]\n",
      " [8 6 7 2 4 9 5 1 3]\n",
      " [1 7 8 6 3 4 2 5 9]\n",
      " [4 3 5 7 9 2 6 8 1]\n",
      " [2 9 6 5 8 1 4 3 7]\n",
      " [6 2 3 4 1 7 8 9 5]\n",
      " [7 5 1 9 2 8 3 4 6]\n",
      " [9 8 4 3 5 6 1 7 2]]\n"
     ]
    }
   ],
   "source": [
    "solved = False\n",
    "with driver.session() as session:\n",
    "    while solved == False:\n",
    "        move, constraint = session.read_transaction(find_next_search)\n",
    "        if move != None:\n",
    "            update_result = session.write_transaction(update_moves, move, constraint)\n",
    "        else:\n",
    "            mc = session.run(\"MATCH (m:Move {status:'Maybe'}) RETURN count(*) AS maybeCount\")\n",
    "            maybeCount = mc.single()['maybeCount']\n",
    "            if maybeCount == 0:\n",
    "                solved = True\n",
    "                print(\"Solved!\")\n",
    "                grid = session.read_transaction(get_grid)\n",
    "                print(np.array(grid))\n",
    "            else:\n",
    "                constraintId, moveId, search = session.write_transaction(backtrack)\n",
    "                while moveId == None:\n",
    "                    session.run(\"MATCH (n) WHERE n.search = $search SET n.search = null, n.moveId = null\", search=search)\n",
    "                    constraintId, moveId, search = session.write_transaction(backtrack)\n",
    "                session.run(\"MATCH (n) WHERE n.search = $search SET n.search = null, n.moveId = null\", search=search)\n",
    "                update_result = session.write_transaction(update_moves, moveId, constraintId)    \n",
    "\n",
    "            \n",
    "            "
   ]
  }
 ],
 "metadata": {
  "kernelspec": {
   "display_name": "Python 3",
   "language": "python",
   "name": "python3"
  },
  "language_info": {
   "codemirror_mode": {
    "name": "ipython",
    "version": 3
   },
   "file_extension": ".py",
   "mimetype": "text/x-python",
   "name": "python",
   "nbconvert_exporter": "python",
   "pygments_lexer": "ipython3",
   "version": "3.7.4"
  }
 },
 "nbformat": 4,
 "nbformat_minor": 2
}
